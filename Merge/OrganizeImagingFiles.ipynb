{
 "cells": [
  {
   "cell_type": "markdown",
   "metadata": {},
   "source": [
    "## Extract NIfTI imaging files from subdirectories^4 to one folder"
   ]
  },
  {
   "cell_type": "markdown",
   "metadata": {},
   "source": [
    "### Input: \n",
    "#### imaging files in folders of folders of folders of folders based on extraction of zip files downloaded from ADNI website\n",
    "### Output: \n",
    "#### imaging files in one folder"
   ]
  },
  {
   "cell_type": "code",
   "execution_count": 62,
   "metadata": {
    "collapsed": true
   },
   "outputs": [],
   "source": [
    "import os\n",
    "from shutil import copyfile"
   ]
  },
  {
   "cell_type": "code",
   "execution_count": 64,
   "metadata": {},
   "outputs": [],
   "source": [
    "# define diagnosis type (e.g. 'AD','CN','EMCI','LMCI','SMC')\n",
    "dx = 'CN'\n",
    "\n",
    "# define root directory (where imaging zip files are downloaded)\n",
    "rt_dir = '/Users/ja/Documents/BigDataAnalytics/Preprocessed_%s'%dx\n",
    "files = os.listdir(rt_dir)[2:]"
   ]
  },
  {
   "cell_type": "code",
   "execution_count": 59,
   "metadata": {},
   "outputs": [],
   "source": [
    "# for each diagnosis type, the imaging data are downloaded in segments of 5 zip files\n",
    "# n = 1 or 2 or 3 or 4 or 5\n",
    "for n in range(1,6):\n",
    "    \n",
    "    # define subdirectories\n",
    "    rootdir = '/Users/ja/Documents/BigDataAnalytics/Preprocessed_AD/Preprocessed_AD_%s'%n\n",
    "    ids = os.listdir(rootdir)[1:] \n",
    "    len(ids)\n",
    "    \n",
    "    # get the path of imaging files in subdirectories^4 and copy them to the main directory\n",
    "    for i in range(0,len(ids)):\n",
    "        fid = ids[i]\n",
    "        sub = [i for i in os.listdir(rootdir+'/'+fid) if i != '.DS_Store'][0]\n",
    "        sub2 = [i for i in os.listdir(rootdir+'/'+fid+'/'+sub) if i != '.DS_Store'][0] \n",
    "        sub3 = [i for i in os.listdir(rootdir+'/'+fid+'/'+sub +'/'+sub2) if i != '.DS_Store'][0]\n",
    "        image_name = [i for i in os.listdir(rootdir+'/'+fid+'/'+sub +'/'+sub2 + '/'+sub3 ) if i != '.DS_Store'][0]\n",
    "        copyfile(rootdir+'/'+fid+'/'+sub +'/'+sub2+'/'+sub3+'/'+image_name, \"/Users/ja/Documents/BigDataAnalytics/Preprocessed_AD/\"+image_name)"
   ]
  }
 ],
 "metadata": {
  "kernelspec": {
   "display_name": "Python 2",
   "language": "python",
   "name": "python2"
  },
  "language_info": {
   "codemirror_mode": {
    "name": "ipython",
    "version": 2
   },
   "file_extension": ".py",
   "mimetype": "text/x-python",
   "name": "python",
   "nbconvert_exporter": "python",
   "pygments_lexer": "ipython2",
   "version": "2.7.13"
  }
 },
 "nbformat": 4,
 "nbformat_minor": 2
}
