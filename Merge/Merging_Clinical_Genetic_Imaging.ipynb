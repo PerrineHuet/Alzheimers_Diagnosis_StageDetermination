{
 "cells": [
  {
   "cell_type": "code",
   "execution_count": 42,
   "metadata": {
    "collapsed": true
   },
   "outputs": [],
   "source": [
    "import pandas as pd\n",
    "import numpy as np\n",
    "import scipy as sp\n",
    "import math\n",
    "pd.set_option('display.max_columns', None)\n",
    "from sklearn import svm\n",
    "import sklearn\n",
    "from sklearn.model_selection import train_test_split"
   ]
  },
  {
   "cell_type": "markdown",
   "metadata": {},
   "source": [
    "## Select ADNI GO/2 & baseline clinical rows"
   ]
  },
  {
   "cell_type": "code",
   "execution_count": 43,
   "metadata": {
    "collapsed": true
   },
   "outputs": [],
   "source": [
    "# key ADNI tables merged into one (ADNI1, ADNI GO, ADNI2) \n",
    "x = pd.read_csv('ADNIMERGE_MAY15.2014.csv')\n",
    "# remove ADNI1\n",
    "ADNI_GO_2 = x.loc[x['COLPROT'].isin(['ADNIGO','ADNI2'])]\n",
    "# remove Dx.bl=nan\n",
    "ADNI_GO_2 = ADNI_GO_2.loc[ADNI_GO_2['DX.bl'].isin(['CN','LMCI','AD','EMCI','SMC'])]\n",
    "# select baseline rows\n",
    "ADNI_GO_2_bl = ADNI_GO_2.loc[ADNI_GO_2['VISCODE'].isin(['bl'])]\n",
    "ADNI_GO_2_bl = ADNI_GO_2_bl.reset_index(drop=True)"
   ]
  },
  {
   "cell_type": "markdown",
   "metadata": {},
   "source": [
    "## Filter out missing values"
   ]
  },
  {
   "cell_type": "code",
   "execution_count": 44,
   "metadata": {
    "collapsed": true
   },
   "outputs": [],
   "source": [
    "# remove columns with too many missing values and non-feature columns\n",
    "COLS_DROP = [ 'PTID', 'VISCODE', 'SITE', 'COLPROT', 'ORIGPROT', 'EXAMDATE', 'PIB.bl', 'MMSE.bl',\n",
    "'Years.bl', 'Month.bl', 'Month', 'M', 'PIB', 'EXAMDATE.bl','DX']\n",
    "d = ADNI_GO_2_bl.drop(COLS_DROP,axis=1)\n",
    "d = d.reset_index(drop=True)\n",
    "\n",
    "# Drop all rows with NaN\n",
    "# d = d.dropna(how='any')\n",
    "# d = d.reset_index(drop=True)"
   ]
  },
  {
   "cell_type": "code",
   "execution_count": 45,
   "metadata": {},
   "outputs": [
    {
     "data": {
      "text/plain": [
       "EMCI    311\n",
       "CN      187\n",
       "LMCI    164\n",
       "AD      148\n",
       "SMC     106\n",
       "Name: DX.bl, dtype: int64"
      ]
     },
     "execution_count": 45,
     "metadata": {},
     "output_type": "execute_result"
    }
   ],
   "source": [
    "d['DX.bl'].value_counts()"
   ]
  },
  {
   "cell_type": "code",
   "execution_count": null,
   "metadata": {
    "collapsed": true
   },
   "outputs": [],
   "source": [
    "# filter out samples with CN (Cognitively Normal) and AD(Alzheimers Disease) labels\n",
    "# ADNI_GO_2_bl_label = ADNI_GO_2_bl.loc[ADNI_GO_2_bl['DX.bl'].isin(['CN','AD'])]"
   ]
  },
  {
   "cell_type": "code",
   "execution_count": 46,
   "metadata": {
    "collapsed": true
   },
   "outputs": [],
   "source": [
    "# convert categorical variables to dummy variables\n",
    "COLS_CATEGO = ['PTGENDER','PTETHCAT','PTRACCAT','PTMARRY']\n",
    "for m in COLS_CATEGO:\n",
    "    categories = []\n",
    "    for index, row in d.iterrows():\n",
    "        element = row[m]\n",
    "        if element not in categories:\n",
    "            categories.append( element )\n",
    "        d.loc[index, m] = categories.index(element)"
   ]
  },
  {
   "cell_type": "code",
   "execution_count": 47,
   "metadata": {
    "collapsed": true
   },
   "outputs": [],
   "source": [
    "d = d[[ 'RID','ADAS11','ADAS13','AGE', 'APOE4','AV45','CDRSB','EcogPtDivatt','EcogPtLang','EcogPtMem','EcogPtOrgan',\\\n",
    "       'EcogPtPlan','EcogPtTotal','EcogPtVisspat','EcogSPDivatt','EcogSPLang','EcogSPMem','EcogSPOrgan','EcogSPPlan',\\\n",
    "       'EcogSPTotal','EcogSPVisspat','Entorhinal','FAQ','FDG','Fusiform','Hippocampus','ICV','MMSE','MOCA','MidTemp',\\\n",
    "       'PTEDUCAT','PTETHCAT','PTGENDER','PTMARRY','PTRACCAT','RAVLT.forgetting','RAVLT.immediate','RAVLT.learning',\n",
    "       'RAVLT.perc.forgetting','Ventricles','WholeBrain','DX.bl']]\n",
    "d = d.rename(columns={'DX.bl':'label_clin'})"
   ]
  },
  {
   "cell_type": "markdown",
   "metadata": {},
   "source": [
    "## Read in genomics SNPs data"
   ]
  },
  {
   "cell_type": "code",
   "execution_count": 48,
   "metadata": {},
   "outputs": [
    {
     "data": {
      "text/plain": [
       "EMCI    209\n",
       "CN      126\n",
       "LMCI     67\n",
       "AD       29\n",
       "Name: label_clin, dtype: int64"
      ]
     },
     "execution_count": 48,
     "metadata": {},
     "output_type": "execute_result"
    }
   ],
   "source": [
    "gwas = pd.read_csv('adni_clin_gwas.csv')\n",
    "gwas['RID'] = gwas['PTID'].str.split('_',expand=True)[2]\n",
    "gcols = gwas.columns\n",
    "gwas = gwas[[u'RID', u'APOE4',\n",
    "       u'rs429358', u'rs7412', u'rs2075650', u'rs12449237', u'rs3851179',\n",
    "       u'rs4420638', u'rs7561528', u'rs17817600', u'rs3748140', u'rs12808148',\n",
    "       u'rs6856768', u'rs117383358', u'rs1357692']]\n",
    "gwas['RID'] = [int(i) for i in gwas['RID']]\n",
    "\n",
    "clinbio = gwas.merge(d,on='RID',how='inner')\n",
    "clinbio['label_clin'].value_counts()\n",
    "#clinbio = clinbio.drop('RID',axis=1)\n",
    "#clinbio.to_csv('clinicalbio.csv',index=False)"
   ]
  },
  {
   "cell_type": "markdown",
   "metadata": {},
   "source": [
    "## Read in imaging measurements + Merging 2 or 3 data types"
   ]
  },
  {
   "cell_type": "code",
   "execution_count": 52,
   "metadata": {
    "collapsed": true
   },
   "outputs": [],
   "source": [
    "img = pd.read_csv('/Users/ja/Documents/BigDataAnalytics/BigData_ADNI_project/Data/ProcessedImaging/MergedProcessedMRI_filtered.csv')"
   ]
  },
  {
   "cell_type": "code",
   "execution_count": 53,
   "metadata": {
    "collapsed": true
   },
   "outputs": [],
   "source": [
    "# Merged based on Clinical and Imaging\n",
    "merged2 = d.merge(img,on='RID')\n",
    "merged2['label_clin'].value_counts()\n",
    "merged2_nona = merged2.dropna(how='any')\n",
    "merged2_nona = merged2_nona.drop(['ICV_y','label_clin'],axis=1)\n",
    "merged2_nona.to_csv('merged_clinimg_NoNAs.csv',index=False)"
   ]
  },
  {
   "cell_type": "code",
   "execution_count": 54,
   "metadata": {
    "collapsed": true
   },
   "outputs": [],
   "source": [
    "# Merged based on Clinical, Genetic and Imaging\n",
    "merged3 = clinbio.merge(img,on='RID')\n",
    "merged3 = merged3.drop(['APOE4_y','ICV_y','label_clin'],axis=1)\n",
    "merged3.columns\n",
    "merged3 = merged3.rename(columns={'APOE4_x':'APOE4'})\n",
    "merged3 = merged3.rename(columns={'ICV_x':'ICV'})\n",
    "merged3 = merged3.dropna(how='any')\n",
    "merged3.to_csv('Merged_clinbioimg_nona.csv',index=False)"
   ]
  }
 ],
 "metadata": {
  "kernelspec": {
   "display_name": "Python 2",
   "language": "python",
   "name": "python2"
  },
  "language_info": {
   "codemirror_mode": {
    "name": "ipython",
    "version": 2
   },
   "file_extension": ".py",
   "mimetype": "text/x-python",
   "name": "python",
   "nbconvert_exporter": "python",
   "pygments_lexer": "ipython2",
   "version": "2.7.13"
  }
 },
 "nbformat": 4,
 "nbformat_minor": 2
}
