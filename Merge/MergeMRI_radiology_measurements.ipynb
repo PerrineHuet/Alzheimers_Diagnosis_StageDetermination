{
 "cells": [
  {
   "cell_type": "code",
   "execution_count": 1,
   "metadata": {
    "collapsed": true
   },
   "outputs": [],
   "source": [
    "import pandas as pd\n",
    "import numpy as np\n",
    "import numpy.matlib\n",
    "from numpy import linalg as LA\n",
    "import matplotlib.pyplot as plt\n",
    "%matplotlib inline\n",
    "\n",
    "from scipy import stats, integrate\n",
    "import seaborn as sns\n",
    "sns.set(color_codes=True)\n",
    "\n",
    "from sklearn import decomposition\n",
    "from sklearn.preprocessing import scale\n",
    "from sklearn.decomposition import PCA"
   ]
  },
  {
   "cell_type": "code",
   "execution_count": 2,
   "metadata": {
    "collapsed": true
   },
   "outputs": [],
   "source": [
    "t1 = pd.read_csv('FOXLABBSI_11_06_17.csv')\n",
    "t2 = pd.read_csv('MAYOADIRL_MRI_FMRI_05_02_14.csv')\n",
    "t3 = pd.read_csv('MRI_INFARCTS_11_16_15.csv')\n",
    "t4 = pd.read_csv('UCD_ADNI2_WMH_10_26_15.csv')\n",
    "\n",
    "t1 = t1.loc[t1.VISCODE2.isin(['sc','scmri']),] \n",
    "t1 = t1.loc[t1.MRSEQUENCE.isin(['ADNI1','Acc']),]\n",
    "t2 = t2.loc[t2.VISCODE2.isin(['sc','scmri']),] \n",
    "t3 = t3.loc[t3.VISCODE2.isin(['bl','sc','scmri']),] \n",
    "t4 = t4.loc[t4.VISCODE2=='scmri',] "
   ]
  },
  {
   "cell_type": "code",
   "execution_count": 3,
   "metadata": {
    "collapsed": true
   },
   "outputs": [],
   "source": [
    "# get labels from clinical data\n",
    "c = pd.read_csv('../Clinical/ADNIMERGE_May15.2014.csv')\n",
    "c = c[['RID','VISCODE','COLPROT','DX.bl',]]\n",
    "# filter out the sample IDs with baseline data from ADNI GO or ADNI2\n",
    "c = c.loc[c.VISCODE.isin(['bl']),]\n",
    "c = c.drop_duplicates()\n",
    "c = c.loc[c.COLPROT.isin(['ADNI2','ADNIGO']),]\n",
    "c = c.reset_index(drop=True)"
   ]
  },
  {
   "cell_type": "code",
   "execution_count": 4,
   "metadata": {},
   "outputs": [
    {
     "data": {
      "text/plain": [
       "EMCI    311\n",
       "CN      187\n",
       "LMCI    164\n",
       "AD      148\n",
       "SMC     106\n",
       "Name: DX.bl, dtype: int64"
      ]
     },
     "execution_count": 4,
     "metadata": {},
     "output_type": "execute_result"
    }
   ],
   "source": [
    "c['DX.bl'].value_counts()"
   ]
  },
  {
   "cell_type": "markdown",
   "metadata": {},
   "source": [
    "## FOXLABBSI_11_06_17"
   ]
  },
  {
   "cell_type": "code",
   "execution_count": 5,
   "metadata": {},
   "outputs": [
    {
     "data": {
      "text/plain": [
       "EMCI    306\n",
       "CN      184\n",
       "LMCI    163\n",
       "AD      146\n",
       "SMC     107\n",
       "Name: DX.bl, dtype: int64"
      ]
     },
     "execution_count": 5,
     "metadata": {},
     "output_type": "execute_result"
    }
   ],
   "source": [
    "t1_2 = pd.merge(t1,c,left_on='RID',right_on='RID')\n",
    "t1_2 = t1_2.drop_duplicates()\n",
    "t1_2 = t1_2.loc[t1_2.COLPROT.isin(['ADNI2','ADNIGO']),] \n",
    "t1_2 = t1_2.reset_index(drop=True)\n",
    "t1_2['DX.bl'].value_counts()"
   ]
  },
  {
   "cell_type": "code",
   "execution_count": 6,
   "metadata": {
    "collapsed": true
   },
   "outputs": [],
   "source": [
    "t1_2 = t1_2.drop(['MRSEQUENCE','VISCODE2','VISCODE','COLPROT','DX.bl'],axis=1)"
   ]
  },
  {
   "cell_type": "markdown",
   "metadata": {},
   "source": [
    "## MAYOADIRL_MRI_FMRI_05_02_14"
   ]
  },
  {
   "cell_type": "code",
   "execution_count": 7,
   "metadata": {},
   "outputs": [
    {
     "data": {
      "text/plain": [
       "EMCI    51\n",
       "LMCI    38\n",
       "CN      36\n",
       "AD      34\n",
       "SMC     26\n",
       "Name: DX.bl, dtype: int64"
      ]
     },
     "execution_count": 7,
     "metadata": {},
     "output_type": "execute_result"
    }
   ],
   "source": [
    "t2_2 = pd.merge(t2,c,on='RID')\n",
    "t2_2 = t2_2.drop_duplicates()\n",
    "t2_2 = t2_2.loc[t2_2.COLPROT.isin(['ADNI2','ADNIGO']),] \n",
    "t2_2 = t2_2.reset_index(drop=True)\n",
    "t2_2['DX.bl'].value_counts()"
   ]
  },
  {
   "cell_type": "code",
   "execution_count": 8,
   "metadata": {
    "collapsed": true
   },
   "outputs": [],
   "source": [
    "t2_2 = t2_2.drop(['VISCODE2','VISCODE','COLPROT','DX.bl'],axis=1)"
   ]
  },
  {
   "cell_type": "markdown",
   "metadata": {},
   "source": [
    "## MRI_INFARCTS_11_16_15"
   ]
  },
  {
   "cell_type": "code",
   "execution_count": 7,
   "metadata": {},
   "outputs": [
    {
     "data": {
      "text/plain": [
       "EMCI    308\n",
       "CN      181\n",
       "LMCI    165\n",
       "AD      134\n",
       "SMC      63\n",
       "Name: DX.bl, dtype: int64"
      ]
     },
     "execution_count": 7,
     "metadata": {},
     "output_type": "execute_result"
    }
   ],
   "source": [
    "t3_2 = pd.merge(t3,c,on='RID')\n",
    "t3_2 = t3_2.drop_duplicates()\n",
    "t3_2 = t3_2.loc[t3_2.COLPROT.isin(['ADNI2','ADNIGO']),] \n",
    "t3_2 = t3_2.reset_index(drop=True)\n",
    "\n",
    "# replace the '-' values with 'None'\n",
    "cols = ['SIDE','SIZE','BRAIN_REGION','STROKE_TYPE']\n",
    "for i in range(0,len(cols)): \n",
    "    t3_2[cols[i]].replace('-','None',inplace=True)\n",
    "\n",
    "t3_2['DX.bl'].value_counts()"
   ]
  },
  {
   "cell_type": "code",
   "execution_count": 8,
   "metadata": {
    "collapsed": true
   },
   "outputs": [],
   "source": [
    "t3_2 = t3_2.drop(['VISCODE2','VISCODE','COLPROT','DX.bl'],axis=1)"
   ]
  },
  {
   "cell_type": "code",
   "execution_count": 10,
   "metadata": {
    "collapsed": true
   },
   "outputs": [],
   "source": [
    "#t3_2"
   ]
  },
  {
   "cell_type": "markdown",
   "metadata": {},
   "source": [
    "## UCD_ADNI2_WMH_10_26_15"
   ]
  },
  {
   "cell_type": "code",
   "execution_count": 11,
   "metadata": {},
   "outputs": [
    {
     "data": {
      "text/plain": [
       "EMCI    225\n",
       "CN      187\n",
       "LMCI    163\n",
       "AD      146\n",
       "SMC     106\n",
       "Name: DX.bl, dtype: int64"
      ]
     },
     "execution_count": 11,
     "metadata": {},
     "output_type": "execute_result"
    }
   ],
   "source": [
    "t4_2 = pd.merge(t4,c,on='RID')\n",
    "t4_2 = t4_2.drop_duplicates()\n",
    "t4_2 = t4_2.loc[t4_2.COLPROT.isin(['ADNI2','ADNIGO']),] \n",
    "t4_2 = t4_2.reset_index(drop=True)\n",
    "t4_2['DX.bl'].value_counts()"
   ]
  },
  {
   "cell_type": "code",
   "execution_count": 12,
   "metadata": {
    "collapsed": true
   },
   "outputs": [],
   "source": [
    "t4_2 = t4_2.drop(['VISCODE2','VISCODE','COLPROT','DX.bl'],axis=1)"
   ]
  },
  {
   "cell_type": "markdown",
   "metadata": {},
   "source": [
    "## Merge table"
   ]
  },
  {
   "cell_type": "code",
   "execution_count": 13,
   "metadata": {
    "collapsed": true
   },
   "outputs": [],
   "source": [
    "# merge the 4 processed MRI tables\n",
    "t = t1_2.merge(t2_2,on='RID',how='outer').merge(t3_2,on='RID',how='outer').merge(t4_2,on='RID',how='outer').merge(c,on='RID',how='inner')"
   ]
  },
  {
   "cell_type": "code",
   "execution_count": 14,
   "metadata": {
    "collapsed": true
   },
   "outputs": [],
   "source": [
    "# filter out samples with CN (Cognitively Normal) and AD(Alzheimers Disease) labels\n",
    "# or keep patients of all disease stages\n",
    "d = t#.loc[t['DX.bl'].isin(['CN','AD']),]\n",
    "# remove columns with too many missing values and non-feature columns\n",
    "COLS_DROP = ['VENTACCEPT','HPACCEPT_R','HPACCEPT_L','MEANTSNR','MEDTSNR','SDTSNR','PENCIL','VENETIAN','VISCODE','COLPROT']\n",
    "d = d.drop(COLS_DROP,axis=1)\n",
    "d = d.reset_index(drop=True)\n",
    "\n",
    "# Drop all rows with NaN\n",
    "d = d.dropna(how='any')\n",
    "# reset dataframe index \n",
    "d = d.reset_index(drop=True)"
   ]
  },
  {
   "cell_type": "code",
   "execution_count": 16,
   "metadata": {
    "collapsed": true
   },
   "outputs": [],
   "source": [
    "RID_counts = d['RID'].value_counts().tolist()\n",
    "RIDs = d['RID'].value_counts().index\n",
    "RIDs_duplicates = [RIDs[i] for i in range(0,len(RIDs)) if RID_counts[i] > 1]"
   ]
  },
  {
   "cell_type": "code",
   "execution_count": null,
   "metadata": {
    "collapsed": true
   },
   "outputs": [],
   "source": [
    "# convert categorical variables to dummy variables\n",
    "COLS_CATEGO = ['SIDE','SIZE','BRAIN_REGION','STROKE_TYPE']\n",
    "for m in COLS_CATEGO:\n",
    "    categories = []\n",
    "    for index, row in d.iterrows():\n",
    "        element = row[m]\n",
    "        if element not in categories:\n",
    "            categories.append( element )\n",
    "        d.loc[index, m] = categories.index(element)"
   ]
  },
  {
   "cell_type": "code",
   "execution_count": null,
   "metadata": {
    "collapsed": true
   },
   "outputs": [],
   "source": [
    "d.to_csv('MergedProcessedMRI_filtered.csv',index=False)"
   ]
  },
  {
   "cell_type": "markdown",
   "metadata": {},
   "source": [
    "## PCA"
   ]
  },
  {
   "cell_type": "code",
   "execution_count": null,
   "metadata": {
    "collapsed": true
   },
   "outputs": [],
   "source": [
    "# get number of columns and rows\n",
    "n_cols = d.shape[1]\n",
    "n_sampels = d.shape[0]"
   ]
  },
  {
   "cell_type": "code",
   "execution_count": null,
   "metadata": {
    "collapsed": true
   },
   "outputs": [],
   "source": [
    "# define features and labels\n",
    "d_x = d.iloc[:,0:n_cols-2]\n",
    "d_y = d.iloc[:,n_cols-1]\n",
    "\n",
    "# get indexes for normal and alzheimers labels\n",
    "CN_index = d_y == 'CN'\n",
    "AD_index = d_y == 'AD'"
   ]
  },
  {
   "cell_type": "code",
   "execution_count": null,
   "metadata": {
    "collapsed": true
   },
   "outputs": [],
   "source": [
    "# Convert features to numpy array for PCA transformation\n",
    "d_x = d_x.as_matrix()\n",
    "d_x = d_x.astype(float)\n",
    "\n",
    "# Normalize features to mean=0, variance = 1\n",
    "x_mean = np.mean(d_x, axis = 0)\n",
    "x_std = np.std(d_x, axis = 0)\n",
    "\n",
    "d_x = np.subtract( d_x, np.matlib.repmat(x_mean, n_sampels, 1) )\n",
    "d_x = np.divide( d_x,np.matlib.repmat(x_std, n_sampels, 1) )"
   ]
  },
  {
   "cell_type": "code",
   "execution_count": null,
   "metadata": {
    "collapsed": true
   },
   "outputs": [],
   "source": [
    "# PCA\n",
    "row, col = np.shape(d_x)\n",
    "cov = np.zeros([col, col])\n",
    "\n",
    "for i in range(row):\n",
    "    outer_prod = (1/row) * np.outer(d_x[i], d_x[i])\n",
    "    cov = np.add(cov, outer_prod)\n",
    "w, v = LA.eig( cov )\n",
    "\n",
    "#Eigenvector transformation\n",
    "d_x = np.matmul(d_x, v.real)"
   ]
  },
  {
   "cell_type": "code",
   "execution_count": null,
   "metadata": {
    "collapsed": true,
    "scrolled": false
   },
   "outputs": [],
   "source": [
    "#a4_dims = (12, 9)\n",
    "#fig, ax = plt.subplots(figsize=a4_dims)\n",
    "plt.scatter(d_x[CN_index,0], d_x[CN_index,2], alpha=0.5)\n",
    "plt.scatter(d_x[AD_index,0], d_x[AD_index,2], alpha=0.5)\n",
    "plt.xlabel('Feature 1')\n",
    "plt.ylabel('Feature 2')\n",
    "plt.legend(['CN', 'AD'])\n",
    "plt.title('PCA of neuroimaging measurements data')\n",
    "plt.show()"
   ]
  }
 ],
 "metadata": {
  "kernelspec": {
   "display_name": "Python 2",
   "language": "python",
   "name": "python2"
  },
  "language_info": {
   "codemirror_mode": {
    "name": "ipython",
    "version": 2
   },
   "file_extension": ".py",
   "mimetype": "text/x-python",
   "name": "python",
   "nbconvert_exporter": "python",
   "pygments_lexer": "ipython2",
   "version": "2.7.13"
  }
 },
 "nbformat": 4,
 "nbformat_minor": 2
}
